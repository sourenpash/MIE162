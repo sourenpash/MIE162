{
 "cells": [
  {
   "cell_type": "markdown",
   "metadata": {},
   "source": [
    "kaggle_survey_2022_answer_choices.pdf"
   ]
  },
  {
   "cell_type": "code",
   "execution_count": 8,
   "metadata": {},
   "outputs": [],
   "source": [
    "import PyPDF2\n",
    "import io\n",
    "from reportlab.lib.pagesizes import letter\n",
    "from reportlab.pdfgen import canvas\n",
    "\n",
    "# Read the PDF\n",
    "input_pdf_path = \"kaggle_survey_2022_answer_choices.pdf\"\n",
    "\n",
    "output_pdf_path = \"output.pdf\"\n",
    "\n",
    "pdf_file = open(input_pdf_path, 'rb')\n",
    "reader = PyPDF2.PdfFileReader(pdf_file)\n",
    "num_pages = reader.numPages\n",
    "\n",
    "# Extract and filter text\n",
    "filtered_text = \"\"\n",
    "for page_num in range(num_pages):\n",
    "    text = reader.getPage(page_num).extractText()\n",
    "    lines = text.split('\\n')\n",
    "    for line in lines:\n",
    "        if \"●\" not in line:  # If the line doesn't contain the bullet point\n",
    "            filtered_text += line + '\\n'\n",
    "\n",
    "# Write filtered text back to a new PDF\n",
    "packet = io.BytesIO()\n",
    "c = canvas.Canvas(packet, pagesize=letter)\n",
    "width, height = letter\n",
    "y_position = height - 72  # Start roughly 1 inch from the top\n",
    "for line in filtered_text.split('\\n'):\n",
    "    c.drawString(72, y_position, line)  # Start roughly 1 inch from the left\n",
    "    y_position -= 14  # Move down roughly 14 points for next line\n",
    "    # Simple check to avoid writing off the page; start a new page if necessary\n",
    "    if y_position < 40:\n",
    "        c.showPage()\n",
    "        y_position = height - 72\n",
    "c.save()\n",
    "\n",
    "packet.seek(0)\n",
    "with open(output_pdf_path, 'wb') as out:\n",
    "    out.write(packet.getvalue())\n",
    "\n",
    "pdf_file.close()\n"
   ]
  }
 ],
 "metadata": {
  "kernelspec": {
   "display_name": "mie162",
   "language": "python",
   "name": "python3"
  },
  "language_info": {
   "codemirror_mode": {
    "name": "ipython",
    "version": 3
   },
   "file_extension": ".py",
   "mimetype": "text/x-python",
   "name": "python",
   "nbconvert_exporter": "python",
   "pygments_lexer": "ipython3",
   "version": "3.11.5"
  },
  "orig_nbformat": 4
 },
 "nbformat": 4,
 "nbformat_minor": 2
}
