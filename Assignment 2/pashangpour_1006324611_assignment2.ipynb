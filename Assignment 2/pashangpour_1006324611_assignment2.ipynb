{
 "cells": [
  {
   "cell_type": "code",
   "execution_count": 65,
   "metadata": {},
   "outputs": [
    {
     "name": "stderr",
     "output_type": "stream",
     "text": [
      "/tmp/ipykernel_4803/3138198795.py:4: DtypeWarning: Columns (0,15,43,57,73,88,104,118,126,132,170,200,215,248,272,281,294) have mixed types. Specify dtype option on import or set low_memory=False.\n",
      "  df = pd.read_csv('clean_kaggle_data_2022.csv', encoding='ISO-8859-1')\n"
     ]
    }
   ],
   "source": [
    "import pandas as pd\n",
    "\n",
    "# Load the clean dataset with explicit encoding\n",
    "df = pd.read_csv('clean_kaggle_data_2022.csv', encoding='ISO-8859-1')\n",
    "df_head = pd.read_csv('clean_kaggle_data_2022.csv', encoding='ISO-8859-1', nrows=1)\n",
    "\n",
    "# Get the first row as column names\n",
    "column_names=df_head.columns.tolist()\n",
    "\n",
    "# Drop the first two rows (header and unit information)\n",
    "df = df[2:]\n",
    "\n",
    "# Set the column names\n",
    "df.columns = column_names\n",
    "\n",
    "# Iterate through each column starting from the second column (index 1)\n",
    "response_tally = []\n",
    "\n",
    "for column in df.columns[1:]:\n",
    "    responses = df[column].value_counts().reset_index()\n",
    "    responses.columns = ['Response', 'Count']\n",
    "    responses['Column'] = column\n",
    "    response_tally.append(responses)\n",
    "\n",
    "# Concatenate the response tally dataframes\n",
    "result_df = pd.concat(response_tally, ignore_index=True)\n",
    "\n",
    "# Save the result to an Excel file\n",
    "result_df.to_excel('numberOfResponsesPerClass.xlsx', index=False)\n"
   ]
  },
  {
   "cell_type": "markdown",
   "metadata": {},
   "source": []
  },
  {
   "cell_type": "markdown",
   "metadata": {},
   "source": []
  },
  {
   "cell_type": "code",
   "execution_count": 66,
   "metadata": {},
   "outputs": [],
   "source": [
    "import pandas as pd\n",
    "\n",
    "# Load the Excel file into a DataFrame\n",
    "df = pd.read_excel('response_tally.xlsx')\n",
    "\n",
    "# Initialize an empty dictionary to hold string tallies\n",
    "column_tally = {}\n",
    "\n",
    "# Loop through each row in the \"Column\" column\n",
    "for item in df['Column']:\n",
    "    if item in column_tally:\n",
    "        column_tally[item] += 1\n",
    "    else:\n",
    "        column_tally[item] = 1\n",
    "\n",
    "# Convert the column tally dictionary to a DataFrame\n",
    "output_df = pd.DataFrame(list(column_tally.items()), columns=['Column', 'Tally'])\n",
    "\n",
    "# Save the DataFrame to a new Excel file\n",
    "output_df.to_excel('numberOfclassesPerQuestion.xlsx', index=False)\n"
   ]
  }
 ],
 "metadata": {
  "kernelspec": {
   "display_name": "MIE162",
   "language": "python",
   "name": "python3"
  },
  "language_info": {
   "codemirror_mode": {
    "name": "ipython",
    "version": 3
   },
   "file_extension": ".py",
   "mimetype": "text/x-python",
   "name": "python",
   "nbconvert_exporter": "python",
   "pygments_lexer": "ipython3",
   "version": "3.11.5"
  }
 },
 "nbformat": 4,
 "nbformat_minor": 2
}
