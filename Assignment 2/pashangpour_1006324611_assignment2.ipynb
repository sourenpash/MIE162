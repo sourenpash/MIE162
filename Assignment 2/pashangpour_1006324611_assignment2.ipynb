{
 "cells": [
  {
   "cell_type": "code",
   "execution_count": 11,
   "metadata": {},
   "outputs": [
    {
     "name": "stderr",
     "output_type": "stream",
     "text": [
      "/tmp/ipykernel_4803/770103109.py:4: DtypeWarning: Columns (0,15,43,57,73,88,104,118,126,132,170,200,215,248,272,281,294) have mixed types. Specify dtype option on import or set low_memory=False.\n",
      "  df = pd.read_csv('clean_kaggle_data_2022.csv', encoding='ISO-8859-1')\n"
     ]
    }
   ],
   "source": [
    "import pandas as pd\n",
    "\n",
    "# Load the clean dataset with explicit encoding\n",
    "df = pd.read_csv('clean_kaggle_data_2022.csv', encoding='ISO-8859-1', skiprows=2)\n",
    "\n",
    "# Create an empty DataFrame to store the response tally\n",
    "response_tally = pd.DataFrame(columns=['Response', 'Count', 'Column'])\n",
    "\n",
    "# Iterate through each column\n",
    "for column in df.columns:\n",
    "    responses = df[column].value_counts().reset_index()\n",
    "    responses.columns = ['Response', 'Count']\n",
    "    responses['Column'] = column\n",
    "    response_tally = pd.concat([response_tally, responses], ignore_index=True)\n",
    "\n",
    "# Save the result to an Excel file\n",
    "response_tally.to_excel('response_tally.xlsx', index=False)\n"
   ]
  },
  {
   "cell_type": "code",
   "execution_count": 13,
   "metadata": {},
   "outputs": [],
   "source": [
    "import pandas as pd\n",
    "\n",
    "# Load the Excel file\n",
    "df = pd.read_excel('response_tally.xlsx')\n",
    "\n",
    "# Filter out rows where 'Column' starts with 'Q'\n",
    "df = df[df['Column'].str.startswith('Q')]\n",
    "\n",
    "# Group by the 'Column' and count unique responses\n",
    "unique_counts = df.groupby('Column')['Response'].nunique().reset_index()\n",
    "unique_counts.columns = ['Column', 'Unique Responses']\n",
    "\n",
    "# Sort the DataFrame by 'Column'\n",
    "unique_counts['Column'] = pd.Categorical(unique_counts['Column'], ordered=True, categories=[f'Q{i}' for i in range(2, 300)])\n",
    "unique_counts = unique_counts.sort_values('Column')\n",
    "\n",
    "# Save the results to a new Excel file\n",
    "unique_counts.to_excel('unique_responses_ordered.xlsx', index=False)\n"
   ]
  },
  {
   "cell_type": "markdown",
   "metadata": {},
   "source": []
  },
  {
   "cell_type": "markdown",
   "metadata": {},
   "source": []
  }
 ],
 "metadata": {
  "kernelspec": {
   "display_name": "MIE162",
   "language": "python",
   "name": "python3"
  },
  "language_info": {
   "codemirror_mode": {
    "name": "ipython",
    "version": 3
   },
   "file_extension": ".py",
   "mimetype": "text/x-python",
   "name": "python",
   "nbconvert_exporter": "python",
   "pygments_lexer": "ipython3",
   "version": "3.11.5"
  }
 },
 "nbformat": 4,
 "nbformat_minor": 2
}
