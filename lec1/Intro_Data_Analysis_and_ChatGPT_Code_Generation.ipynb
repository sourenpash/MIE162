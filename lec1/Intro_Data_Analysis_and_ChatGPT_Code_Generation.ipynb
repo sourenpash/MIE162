{
 "cells": [
  {
   "cell_type": "markdown",
   "metadata": {},
   "source": [
    "# Introductory data analysis example - manual Python coding and ChatGPT code generation"
   ]
  },
  {
   "cell_type": "markdown",
   "metadata": {},
   "source": [
    "### US Baby Names 2022"
   ]
  },
  {
   "cell_type": "markdown",
   "metadata": {},
   "source": [
    "http://www.ssa.gov/oact/babynames/limits.html"
   ]
  },
  {
   "cell_type": "markdown",
   "metadata": {},
   "source": [
    "### Download data file"
   ]
  },
  {
   "cell_type": "code",
   "execution_count": 1,
   "metadata": {},
   "outputs": [
    {
     "data": {
      "text/plain": [
       "407564"
      ]
     },
     "execution_count": 1,
     "metadata": {},
     "output_type": "execute_result"
    }
   ],
   "source": [
    "import requests\n",
    "\n",
    "# Download data file\n",
    "url = 'https://raw.githubusercontent.com/OlekRomanko/teaching/master/datasets/yob2022.txt'\n",
    "r = requests.get(url, allow_redirects=True)\n",
    "open('yob2022.txt', 'wb').write(r.content)"
   ]
  },
  {
   "cell_type": "markdown",
   "metadata": {},
   "source": [
    "### Load file into a DataFrame"
   ]
  },
  {
   "cell_type": "markdown",
   "metadata": {},
   "source": [
    "__Manually__"
   ]
  },
  {
   "cell_type": "code",
   "execution_count": 2,
   "metadata": {},
   "outputs": [
    {
     "data": {
      "text/html": [
       "<div>\n",
       "<style scoped>\n",
       "    .dataframe tbody tr th:only-of-type {\n",
       "        vertical-align: middle;\n",
       "    }\n",
       "\n",
       "    .dataframe tbody tr th {\n",
       "        vertical-align: top;\n",
       "    }\n",
       "\n",
       "    .dataframe thead th {\n",
       "        text-align: right;\n",
       "    }\n",
       "</style>\n",
       "<table border=\"1\" class=\"dataframe\">\n",
       "  <thead>\n",
       "    <tr style=\"text-align: right;\">\n",
       "      <th></th>\n",
       "      <th>name</th>\n",
       "      <th>sex</th>\n",
       "      <th>births</th>\n",
       "    </tr>\n",
       "  </thead>\n",
       "  <tbody>\n",
       "    <tr>\n",
       "      <th>0</th>\n",
       "      <td>Olivia</td>\n",
       "      <td>F</td>\n",
       "      <td>16573</td>\n",
       "    </tr>\n",
       "    <tr>\n",
       "      <th>1</th>\n",
       "      <td>Emma</td>\n",
       "      <td>F</td>\n",
       "      <td>14435</td>\n",
       "    </tr>\n",
       "    <tr>\n",
       "      <th>2</th>\n",
       "      <td>Charlotte</td>\n",
       "      <td>F</td>\n",
       "      <td>12891</td>\n",
       "    </tr>\n",
       "    <tr>\n",
       "      <th>3</th>\n",
       "      <td>Amelia</td>\n",
       "      <td>F</td>\n",
       "      <td>12333</td>\n",
       "    </tr>\n",
       "    <tr>\n",
       "      <th>4</th>\n",
       "      <td>Sophia</td>\n",
       "      <td>F</td>\n",
       "      <td>12310</td>\n",
       "    </tr>\n",
       "    <tr>\n",
       "      <th>...</th>\n",
       "      <td>...</td>\n",
       "      <td>...</td>\n",
       "      <td>...</td>\n",
       "    </tr>\n",
       "    <tr>\n",
       "      <th>31910</th>\n",
       "      <td>Zuberi</td>\n",
       "      <td>M</td>\n",
       "      <td>5</td>\n",
       "    </tr>\n",
       "    <tr>\n",
       "      <th>31911</th>\n",
       "      <td>Zydn</td>\n",
       "      <td>M</td>\n",
       "      <td>5</td>\n",
       "    </tr>\n",
       "    <tr>\n",
       "      <th>31912</th>\n",
       "      <td>Zylon</td>\n",
       "      <td>M</td>\n",
       "      <td>5</td>\n",
       "    </tr>\n",
       "    <tr>\n",
       "      <th>31913</th>\n",
       "      <td>Zymeer</td>\n",
       "      <td>M</td>\n",
       "      <td>5</td>\n",
       "    </tr>\n",
       "    <tr>\n",
       "      <th>31914</th>\n",
       "      <td>Zymeire</td>\n",
       "      <td>M</td>\n",
       "      <td>5</td>\n",
       "    </tr>\n",
       "  </tbody>\n",
       "</table>\n",
       "<p>31915 rows × 3 columns</p>\n",
       "</div>"
      ],
      "text/plain": [
       "            name sex  births\n",
       "0         Olivia   F   16573\n",
       "1           Emma   F   14435\n",
       "2      Charlotte   F   12891\n",
       "3         Amelia   F   12333\n",
       "4         Sophia   F   12310\n",
       "...          ...  ..     ...\n",
       "31910     Zuberi   M       5\n",
       "31911       Zydn   M       5\n",
       "31912      Zylon   M       5\n",
       "31913     Zymeer   M       5\n",
       "31914    Zymeire   M       5\n",
       "\n",
       "[31915 rows x 3 columns]"
      ]
     },
     "execution_count": 2,
     "metadata": {},
     "output_type": "execute_result"
    }
   ],
   "source": [
    "import pandas as pd\n",
    "\n",
    "names2022 = pd.read_csv('yob2022.txt', names=['name', 'sex', 'births'])\n",
    "names2022"
   ]
  },
  {
   "cell_type": "markdown",
   "metadata": {},
   "source": [
    "__ChatGPT__"
   ]
  },
  {
   "cell_type": "markdown",
   "metadata": {},
   "source": [
    "(insert to ChatGPT) I have a dataset with the following fields \"name\", \"sex\", \"births\". Here, \"name\" is first name; \"sex\" is gender M or F; \"birth\" is a number of babies born with a given first name. \n",
    "\n",
    "(insert to ChatGPT) Please read file with filename \"yob2022.txt\" and assign column names."
   ]
  },
  {
   "cell_type": "code",
   "execution_count": 3,
   "metadata": {},
   "outputs": [
    {
     "name": "stdout",
     "output_type": "stream",
     "text": [
      "        name sex  births\n",
      "0     Olivia   F   16573\n",
      "1       Emma   F   14435\n",
      "2  Charlotte   F   12891\n",
      "3     Amelia   F   12333\n",
      "4     Sophia   F   12310\n"
     ]
    }
   ],
   "source": [
    "import pandas as pd\n",
    "\n",
    "# Define the column names\n",
    "column_names = [\"name\", \"sex\", \"births\"]\n",
    "\n",
    "# Read the CSV file with specified column names\n",
    "df = pd.read_csv(\"yob2022.txt\", names=column_names)\n",
    "\n",
    "# Display the first few rows of the DataFrame\n",
    "print(df.head())"
   ]
  },
  {
   "cell_type": "markdown",
   "metadata": {},
   "source": [
    "### Total number of birth in year 2022 by sex"
   ]
  },
  {
   "cell_type": "markdown",
   "metadata": {},
   "source": [
    "__Manually__"
   ]
  },
  {
   "cell_type": "code",
   "execution_count": 4,
   "metadata": {},
   "outputs": [
    {
     "data": {
      "text/plain": [
       "sex\n",
       "F    1628730\n",
       "M    1733166\n",
       "Name: births, dtype: int64"
      ]
     },
     "execution_count": 4,
     "metadata": {},
     "output_type": "execute_result"
    }
   ],
   "source": [
    "names2022.groupby('sex').births.sum()"
   ]
  },
  {
   "cell_type": "markdown",
   "metadata": {},
   "source": [
    "__ChatGPT__"
   ]
  },
  {
   "cell_type": "markdown",
   "metadata": {},
   "source": [
    "(insert to ChatGPT) Please generate Python code that calculates number of males and females born."
   ]
  },
  {
   "cell_type": "code",
   "execution_count": 5,
   "metadata": {},
   "outputs": [
    {
     "name": "stdout",
     "output_type": "stream",
     "text": [
      "Number of males born: 1733166\n",
      "Number of females born: 1628730\n"
     ]
    }
   ],
   "source": [
    "# Calculate the number of males and females born\n",
    "males = df[df['sex'] == 'M']['births'].sum()\n",
    "females = df[df['sex'] == 'F']['births'].sum()\n",
    "\n",
    "print(\"Number of males born:\", males)\n",
    "print(\"Number of females born:\", females)"
   ]
  },
  {
   "cell_type": "code",
   "execution_count": 6,
   "metadata": {},
   "outputs": [
    {
     "name": "stdout",
     "output_type": "stream",
     "text": [
      "Number of males born: 1733166\n",
      "Number of females born: 1628730\n"
     ]
    }
   ],
   "source": [
    "# Use groupby and sum to calculate the number of males and females born\n",
    "gender_counts = df.groupby('sex')['births'].sum()\n",
    "\n",
    "# Display the results\n",
    "print(\"Number of males born:\", gender_counts['M'])\n",
    "print(\"Number of females born:\", gender_counts['F'])"
   ]
  },
  {
   "cell_type": "markdown",
   "metadata": {},
   "source": [
    "### Calculate proportions"
   ]
  },
  {
   "cell_type": "markdown",
   "metadata": {},
   "source": [
    "__Manually__"
   ]
  },
  {
   "cell_type": "markdown",
   "metadata": {},
   "source": [
    "Insert `prop` column for each group"
   ]
  },
  {
   "cell_type": "code",
   "execution_count": 7,
   "metadata": {},
   "outputs": [],
   "source": [
    "def add_prop(group):\n",
    "    # Integer division floors\n",
    "    births = group.births.astype(float)\n",
    "\n",
    "    group['prop'] = births / births.sum()\n",
    "    return group\n",
    "names2022 = names2022.groupby(['sex'], group_keys=False).apply(add_prop)"
   ]
  },
  {
   "cell_type": "code",
   "execution_count": 8,
   "metadata": {},
   "outputs": [
    {
     "data": {
      "text/html": [
       "<div>\n",
       "<style scoped>\n",
       "    .dataframe tbody tr th:only-of-type {\n",
       "        vertical-align: middle;\n",
       "    }\n",
       "\n",
       "    .dataframe tbody tr th {\n",
       "        vertical-align: top;\n",
       "    }\n",
       "\n",
       "    .dataframe thead th {\n",
       "        text-align: right;\n",
       "    }\n",
       "</style>\n",
       "<table border=\"1\" class=\"dataframe\">\n",
       "  <thead>\n",
       "    <tr style=\"text-align: right;\">\n",
       "      <th></th>\n",
       "      <th>name</th>\n",
       "      <th>sex</th>\n",
       "      <th>births</th>\n",
       "      <th>prop</th>\n",
       "    </tr>\n",
       "  </thead>\n",
       "  <tbody>\n",
       "    <tr>\n",
       "      <th>0</th>\n",
       "      <td>Olivia</td>\n",
       "      <td>F</td>\n",
       "      <td>16573</td>\n",
       "      <td>0.010175</td>\n",
       "    </tr>\n",
       "    <tr>\n",
       "      <th>1</th>\n",
       "      <td>Emma</td>\n",
       "      <td>F</td>\n",
       "      <td>14435</td>\n",
       "      <td>0.008863</td>\n",
       "    </tr>\n",
       "    <tr>\n",
       "      <th>2</th>\n",
       "      <td>Charlotte</td>\n",
       "      <td>F</td>\n",
       "      <td>12891</td>\n",
       "      <td>0.007915</td>\n",
       "    </tr>\n",
       "    <tr>\n",
       "      <th>3</th>\n",
       "      <td>Amelia</td>\n",
       "      <td>F</td>\n",
       "      <td>12333</td>\n",
       "      <td>0.007572</td>\n",
       "    </tr>\n",
       "    <tr>\n",
       "      <th>4</th>\n",
       "      <td>Sophia</td>\n",
       "      <td>F</td>\n",
       "      <td>12310</td>\n",
       "      <td>0.007558</td>\n",
       "    </tr>\n",
       "    <tr>\n",
       "      <th>...</th>\n",
       "      <td>...</td>\n",
       "      <td>...</td>\n",
       "      <td>...</td>\n",
       "      <td>...</td>\n",
       "    </tr>\n",
       "    <tr>\n",
       "      <th>31910</th>\n",
       "      <td>Zuberi</td>\n",
       "      <td>M</td>\n",
       "      <td>5</td>\n",
       "      <td>0.000003</td>\n",
       "    </tr>\n",
       "    <tr>\n",
       "      <th>31911</th>\n",
       "      <td>Zydn</td>\n",
       "      <td>M</td>\n",
       "      <td>5</td>\n",
       "      <td>0.000003</td>\n",
       "    </tr>\n",
       "    <tr>\n",
       "      <th>31912</th>\n",
       "      <td>Zylon</td>\n",
       "      <td>M</td>\n",
       "      <td>5</td>\n",
       "      <td>0.000003</td>\n",
       "    </tr>\n",
       "    <tr>\n",
       "      <th>31913</th>\n",
       "      <td>Zymeer</td>\n",
       "      <td>M</td>\n",
       "      <td>5</td>\n",
       "      <td>0.000003</td>\n",
       "    </tr>\n",
       "    <tr>\n",
       "      <th>31914</th>\n",
       "      <td>Zymeire</td>\n",
       "      <td>M</td>\n",
       "      <td>5</td>\n",
       "      <td>0.000003</td>\n",
       "    </tr>\n",
       "  </tbody>\n",
       "</table>\n",
       "<p>31915 rows × 4 columns</p>\n",
       "</div>"
      ],
      "text/plain": [
       "            name sex  births      prop\n",
       "0         Olivia   F   16573  0.010175\n",
       "1           Emma   F   14435  0.008863\n",
       "2      Charlotte   F   12891  0.007915\n",
       "3         Amelia   F   12333  0.007572\n",
       "4         Sophia   F   12310  0.007558\n",
       "...          ...  ..     ...       ...\n",
       "31910     Zuberi   M       5  0.000003\n",
       "31911       Zydn   M       5  0.000003\n",
       "31912      Zylon   M       5  0.000003\n",
       "31913     Zymeer   M       5  0.000003\n",
       "31914    Zymeire   M       5  0.000003\n",
       "\n",
       "[31915 rows x 4 columns]"
      ]
     },
     "execution_count": 8,
     "metadata": {},
     "output_type": "execute_result"
    }
   ],
   "source": [
    "names2022"
   ]
  },
  {
   "cell_type": "code",
   "execution_count": 9,
   "metadata": {},
   "outputs": [
    {
     "data": {
      "text/html": [
       "<div>\n",
       "<style scoped>\n",
       "    .dataframe tbody tr th:only-of-type {\n",
       "        vertical-align: middle;\n",
       "    }\n",
       "\n",
       "    .dataframe tbody tr th {\n",
       "        vertical-align: top;\n",
       "    }\n",
       "\n",
       "    .dataframe thead th {\n",
       "        text-align: right;\n",
       "    }\n",
       "</style>\n",
       "<table border=\"1\" class=\"dataframe\">\n",
       "  <thead>\n",
       "    <tr style=\"text-align: right;\">\n",
       "      <th></th>\n",
       "      <th>births</th>\n",
       "      <th>prop</th>\n",
       "    </tr>\n",
       "  </thead>\n",
       "  <tbody>\n",
       "    <tr>\n",
       "      <th>count</th>\n",
       "      <td>31915.000000</td>\n",
       "      <td>31915.000000</td>\n",
       "    </tr>\n",
       "    <tr>\n",
       "      <th>mean</th>\n",
       "      <td>105.339057</td>\n",
       "      <td>0.000063</td>\n",
       "    </tr>\n",
       "    <tr>\n",
       "      <th>std</th>\n",
       "      <td>568.037674</td>\n",
       "      <td>0.000336</td>\n",
       "    </tr>\n",
       "    <tr>\n",
       "      <th>min</th>\n",
       "      <td>5.000000</td>\n",
       "      <td>0.000003</td>\n",
       "    </tr>\n",
       "    <tr>\n",
       "      <th>25%</th>\n",
       "      <td>7.000000</td>\n",
       "      <td>0.000004</td>\n",
       "    </tr>\n",
       "    <tr>\n",
       "      <th>50%</th>\n",
       "      <td>12.000000</td>\n",
       "      <td>0.000007</td>\n",
       "    </tr>\n",
       "    <tr>\n",
       "      <th>75%</th>\n",
       "      <td>32.000000</td>\n",
       "      <td>0.000019</td>\n",
       "    </tr>\n",
       "    <tr>\n",
       "      <th>max</th>\n",
       "      <td>20456.000000</td>\n",
       "      <td>0.011803</td>\n",
       "    </tr>\n",
       "  </tbody>\n",
       "</table>\n",
       "</div>"
      ],
      "text/plain": [
       "             births          prop\n",
       "count  31915.000000  31915.000000\n",
       "mean     105.339057      0.000063\n",
       "std      568.037674      0.000336\n",
       "min        5.000000      0.000003\n",
       "25%        7.000000      0.000004\n",
       "50%       12.000000      0.000007\n",
       "75%       32.000000      0.000019\n",
       "max    20456.000000      0.011803"
      ]
     },
     "execution_count": 9,
     "metadata": {},
     "output_type": "execute_result"
    }
   ],
   "source": [
    "names2022.describe()"
   ]
  },
  {
   "cell_type": "markdown",
   "metadata": {},
   "source": [
    "Verify that the `prop` clumn sums to 1 within all the groups"
   ]
  },
  {
   "cell_type": "code",
   "execution_count": 10,
   "metadata": {},
   "outputs": [
    {
     "data": {
      "text/plain": [
       "True"
      ]
     },
     "execution_count": 10,
     "metadata": {},
     "output_type": "execute_result"
    }
   ],
   "source": [
    "import numpy as np\n",
    "\n",
    "np.allclose(names2022.groupby(['sex']).prop.sum(), 1)"
   ]
  },
  {
   "cell_type": "markdown",
   "metadata": {},
   "source": [
    "__ChatGPT__"
   ]
  },
  {
   "cell_type": "markdown",
   "metadata": {},
   "source": [
    "(insert to ChatGPT) Design Python function to calculate proportion of names for each sex and insert new column \"prop\" with resulting numbers to the same dataframe."
   ]
  },
  {
   "cell_type": "code",
   "execution_count": 11,
   "metadata": {},
   "outputs": [
    {
     "name": "stdout",
     "output_type": "stream",
     "text": [
      "        name sex  births      prop\n",
      "0     Olivia   F   16573  0.010175\n",
      "1       Emma   F   14435  0.008863\n",
      "2  Charlotte   F   12891  0.007915\n",
      "3     Amelia   F   12333  0.007572\n",
      "4     Sophia   F   12310  0.007558\n"
     ]
    }
   ],
   "source": [
    "def calculate_and_insert_name_proportions_inplace(dataset):\n",
    "    \"\"\"\n",
    "    Calculate the proportion of names for each sex in the dataset and insert a new \"prop\" column.\n",
    "    Modifies the input DataFrame in place.\n",
    "    \n",
    "    Parameters:\n",
    "        dataset (DataFrame): The dataset containing columns \"name\", \"sex\", and \"births\".\n",
    "    \"\"\"\n",
    "    # Calculate the total number of births for each sex\n",
    "    total_births_by_sex = dataset.groupby('sex')['births'].transform('sum')\n",
    "    \n",
    "    # Calculate the proportion of each name for its respective sex\n",
    "    dataset['prop'] = dataset['births'] / total_births_by_sex\n",
    "\n",
    "# Assuming you've already read the CSV file and assigned column names as shown in a previous response\n",
    "# If not, read the file again with column names as mentioned earlier\n",
    "\n",
    "# Call the function to calculate and insert the name proportions in the same DataFrame\n",
    "calculate_and_insert_name_proportions_inplace(df)\n",
    "\n",
    "# Example: Print the dataset with the new \"prop\" column\n",
    "print(df.head())"
   ]
  },
  {
   "cell_type": "markdown",
   "metadata": {},
   "source": [
    "(insert to ChatGPT) Please write code to verify that proportions sum up to one for each sex."
   ]
  },
  {
   "cell_type": "code",
   "execution_count": 12,
   "metadata": {},
   "outputs": [
    {
     "name": "stdout",
     "output_type": "stream",
     "text": [
      "Sum of proportions for F: 1.0\n",
      "Sum of proportions for M: 1.0\n"
     ]
    }
   ],
   "source": [
    "def verify_proportions_sum_to_one(dataset):\n",
    "    \"\"\"\n",
    "    Verify that the proportions sum up to one for each sex in the dataset.\n",
    "    \n",
    "    Parameters:\n",
    "        dataset (DataFrame): The dataset containing columns \"name\", \"sex\", \"births\", and \"prop\".\n",
    "    \"\"\"\n",
    "    # Group the dataset by sex and calculate the sum of proportions for each sex\n",
    "    sum_of_proportions = dataset.groupby('sex')['prop'].sum()\n",
    "    \n",
    "    # Print the result for each sex\n",
    "    for sex, sum_prop in sum_of_proportions.items():\n",
    "        print(f\"Sum of proportions for {sex}: {sum_prop}\")\n",
    "\n",
    "# Assuming you've already read the CSV file, assigned column names, and inserted the \"prop\" column\n",
    "# If not, make sure your DataFrame contains the \"prop\" column as calculated earlier\n",
    "\n",
    "# Call the function to verify proportions sum up to one for each sex\n",
    "verify_proportions_sum_to_one(df)"
   ]
  },
  {
   "cell_type": "markdown",
   "metadata": {},
   "source": [
    "### Extract a subset of the data with the top 10 names for each sex"
   ]
  },
  {
   "cell_type": "markdown",
   "metadata": {},
   "source": [
    "__Manually__"
   ]
  },
  {
   "cell_type": "code",
   "execution_count": 13,
   "metadata": {},
   "outputs": [],
   "source": [
    "def get_top10(group):\n",
    "    return group.sort_values(by='births', ascending=False)[:10]    \n",
    "grouped = names2022.groupby(['sex'])\n",
    "top10 = grouped.apply(get_top10)"
   ]
  },
  {
   "cell_type": "code",
   "execution_count": 14,
   "metadata": {},
   "outputs": [],
   "source": [
    "top10.index = np.arange(len(top10))"
   ]
  },
  {
   "cell_type": "code",
   "execution_count": 15,
   "metadata": {},
   "outputs": [
    {
     "data": {
      "text/html": [
       "<div>\n",
       "<style scoped>\n",
       "    .dataframe tbody tr th:only-of-type {\n",
       "        vertical-align: middle;\n",
       "    }\n",
       "\n",
       "    .dataframe tbody tr th {\n",
       "        vertical-align: top;\n",
       "    }\n",
       "\n",
       "    .dataframe thead th {\n",
       "        text-align: right;\n",
       "    }\n",
       "</style>\n",
       "<table border=\"1\" class=\"dataframe\">\n",
       "  <thead>\n",
       "    <tr style=\"text-align: right;\">\n",
       "      <th></th>\n",
       "      <th>name</th>\n",
       "      <th>sex</th>\n",
       "      <th>births</th>\n",
       "      <th>prop</th>\n",
       "    </tr>\n",
       "  </thead>\n",
       "  <tbody>\n",
       "    <tr>\n",
       "      <th>0</th>\n",
       "      <td>Olivia</td>\n",
       "      <td>F</td>\n",
       "      <td>16573</td>\n",
       "      <td>0.010175</td>\n",
       "    </tr>\n",
       "    <tr>\n",
       "      <th>1</th>\n",
       "      <td>Emma</td>\n",
       "      <td>F</td>\n",
       "      <td>14435</td>\n",
       "      <td>0.008863</td>\n",
       "    </tr>\n",
       "    <tr>\n",
       "      <th>2</th>\n",
       "      <td>Charlotte</td>\n",
       "      <td>F</td>\n",
       "      <td>12891</td>\n",
       "      <td>0.007915</td>\n",
       "    </tr>\n",
       "    <tr>\n",
       "      <th>3</th>\n",
       "      <td>Amelia</td>\n",
       "      <td>F</td>\n",
       "      <td>12333</td>\n",
       "      <td>0.007572</td>\n",
       "    </tr>\n",
       "    <tr>\n",
       "      <th>4</th>\n",
       "      <td>Sophia</td>\n",
       "      <td>F</td>\n",
       "      <td>12310</td>\n",
       "      <td>0.007558</td>\n",
       "    </tr>\n",
       "    <tr>\n",
       "      <th>5</th>\n",
       "      <td>Isabella</td>\n",
       "      <td>F</td>\n",
       "      <td>11662</td>\n",
       "      <td>0.007160</td>\n",
       "    </tr>\n",
       "    <tr>\n",
       "      <th>6</th>\n",
       "      <td>Ava</td>\n",
       "      <td>F</td>\n",
       "      <td>11039</td>\n",
       "      <td>0.006778</td>\n",
       "    </tr>\n",
       "    <tr>\n",
       "      <th>7</th>\n",
       "      <td>Mia</td>\n",
       "      <td>F</td>\n",
       "      <td>11018</td>\n",
       "      <td>0.006765</td>\n",
       "    </tr>\n",
       "    <tr>\n",
       "      <th>8</th>\n",
       "      <td>Evelyn</td>\n",
       "      <td>F</td>\n",
       "      <td>9289</td>\n",
       "      <td>0.005703</td>\n",
       "    </tr>\n",
       "    <tr>\n",
       "      <th>9</th>\n",
       "      <td>Luna</td>\n",
       "      <td>F</td>\n",
       "      <td>8922</td>\n",
       "      <td>0.005478</td>\n",
       "    </tr>\n",
       "    <tr>\n",
       "      <th>10</th>\n",
       "      <td>Liam</td>\n",
       "      <td>M</td>\n",
       "      <td>20456</td>\n",
       "      <td>0.011803</td>\n",
       "    </tr>\n",
       "    <tr>\n",
       "      <th>11</th>\n",
       "      <td>Noah</td>\n",
       "      <td>M</td>\n",
       "      <td>18621</td>\n",
       "      <td>0.010744</td>\n",
       "    </tr>\n",
       "    <tr>\n",
       "      <th>12</th>\n",
       "      <td>Oliver</td>\n",
       "      <td>M</td>\n",
       "      <td>15076</td>\n",
       "      <td>0.008699</td>\n",
       "    </tr>\n",
       "    <tr>\n",
       "      <th>13</th>\n",
       "      <td>James</td>\n",
       "      <td>M</td>\n",
       "      <td>12028</td>\n",
       "      <td>0.006940</td>\n",
       "    </tr>\n",
       "    <tr>\n",
       "      <th>14</th>\n",
       "      <td>Elijah</td>\n",
       "      <td>M</td>\n",
       "      <td>11979</td>\n",
       "      <td>0.006912</td>\n",
       "    </tr>\n",
       "    <tr>\n",
       "      <th>15</th>\n",
       "      <td>William</td>\n",
       "      <td>M</td>\n",
       "      <td>11282</td>\n",
       "      <td>0.006509</td>\n",
       "    </tr>\n",
       "    <tr>\n",
       "      <th>16</th>\n",
       "      <td>Henry</td>\n",
       "      <td>M</td>\n",
       "      <td>11221</td>\n",
       "      <td>0.006474</td>\n",
       "    </tr>\n",
       "    <tr>\n",
       "      <th>17</th>\n",
       "      <td>Lucas</td>\n",
       "      <td>M</td>\n",
       "      <td>10909</td>\n",
       "      <td>0.006294</td>\n",
       "    </tr>\n",
       "    <tr>\n",
       "      <th>18</th>\n",
       "      <td>Benjamin</td>\n",
       "      <td>M</td>\n",
       "      <td>10842</td>\n",
       "      <td>0.006256</td>\n",
       "    </tr>\n",
       "    <tr>\n",
       "      <th>19</th>\n",
       "      <td>Theodore</td>\n",
       "      <td>M</td>\n",
       "      <td>10754</td>\n",
       "      <td>0.006205</td>\n",
       "    </tr>\n",
       "  </tbody>\n",
       "</table>\n",
       "</div>"
      ],
      "text/plain": [
       "         name sex  births      prop\n",
       "0      Olivia   F   16573  0.010175\n",
       "1        Emma   F   14435  0.008863\n",
       "2   Charlotte   F   12891  0.007915\n",
       "3      Amelia   F   12333  0.007572\n",
       "4      Sophia   F   12310  0.007558\n",
       "5    Isabella   F   11662  0.007160\n",
       "6         Ava   F   11039  0.006778\n",
       "7         Mia   F   11018  0.006765\n",
       "8      Evelyn   F    9289  0.005703\n",
       "9        Luna   F    8922  0.005478\n",
       "10       Liam   M   20456  0.011803\n",
       "11       Noah   M   18621  0.010744\n",
       "12     Oliver   M   15076  0.008699\n",
       "13      James   M   12028  0.006940\n",
       "14     Elijah   M   11979  0.006912\n",
       "15    William   M   11282  0.006509\n",
       "16      Henry   M   11221  0.006474\n",
       "17      Lucas   M   10909  0.006294\n",
       "18   Benjamin   M   10842  0.006256\n",
       "19   Theodore   M   10754  0.006205"
      ]
     },
     "execution_count": 15,
     "metadata": {},
     "output_type": "execute_result"
    }
   ],
   "source": [
    "top10"
   ]
  },
  {
   "cell_type": "code",
   "execution_count": 16,
   "metadata": {},
   "outputs": [
    {
     "data": {
      "text/html": [
       "<div>\n",
       "<style scoped>\n",
       "    .dataframe tbody tr th:only-of-type {\n",
       "        vertical-align: middle;\n",
       "    }\n",
       "\n",
       "    .dataframe tbody tr th {\n",
       "        vertical-align: top;\n",
       "    }\n",
       "\n",
       "    .dataframe thead th {\n",
       "        text-align: right;\n",
       "    }\n",
       "</style>\n",
       "<table border=\"1\" class=\"dataframe\">\n",
       "  <thead>\n",
       "    <tr style=\"text-align: right;\">\n",
       "      <th></th>\n",
       "      <th>births</th>\n",
       "      <th>prop</th>\n",
       "    </tr>\n",
       "  </thead>\n",
       "  <tbody>\n",
       "    <tr>\n",
       "      <th>count</th>\n",
       "      <td>20.000000</td>\n",
       "      <td>20.000000</td>\n",
       "    </tr>\n",
       "    <tr>\n",
       "      <th>mean</th>\n",
       "      <td>12682.000000</td>\n",
       "      <td>0.007540</td>\n",
       "    </tr>\n",
       "    <tr>\n",
       "      <th>std</th>\n",
       "      <td>2968.043321</td>\n",
       "      <td>0.001709</td>\n",
       "    </tr>\n",
       "    <tr>\n",
       "      <th>min</th>\n",
       "      <td>8922.000000</td>\n",
       "      <td>0.005478</td>\n",
       "    </tr>\n",
       "    <tr>\n",
       "      <th>25%</th>\n",
       "      <td>10990.750000</td>\n",
       "      <td>0.006429</td>\n",
       "    </tr>\n",
       "    <tr>\n",
       "      <th>50%</th>\n",
       "      <td>11820.500000</td>\n",
       "      <td>0.006926</td>\n",
       "    </tr>\n",
       "    <tr>\n",
       "      <th>75%</th>\n",
       "      <td>13277.000000</td>\n",
       "      <td>0.008111</td>\n",
       "    </tr>\n",
       "    <tr>\n",
       "      <th>max</th>\n",
       "      <td>20456.000000</td>\n",
       "      <td>0.011803</td>\n",
       "    </tr>\n",
       "  </tbody>\n",
       "</table>\n",
       "</div>"
      ],
      "text/plain": [
       "             births       prop\n",
       "count     20.000000  20.000000\n",
       "mean   12682.000000   0.007540\n",
       "std     2968.043321   0.001709\n",
       "min     8922.000000   0.005478\n",
       "25%    10990.750000   0.006429\n",
       "50%    11820.500000   0.006926\n",
       "75%    13277.000000   0.008111\n",
       "max    20456.000000   0.011803"
      ]
     },
     "execution_count": 16,
     "metadata": {},
     "output_type": "execute_result"
    }
   ],
   "source": [
    "top10.describe()"
   ]
  },
  {
   "cell_type": "markdown",
   "metadata": {},
   "source": [
    "__ChatGPT__"
   ]
  },
  {
   "cell_type": "markdown",
   "metadata": {},
   "source": [
    "(insert to ChatGPT) Write code to extract a subset of the data with the top 10 names for each sex."
   ]
  },
  {
   "cell_type": "code",
   "execution_count": 17,
   "metadata": {},
   "outputs": [
    {
     "name": "stdout",
     "output_type": "stream",
     "text": [
      "         name sex  births      prop\n",
      "0      Olivia   F   16573  0.010175\n",
      "1        Emma   F   14435  0.008863\n",
      "2   Charlotte   F   12891  0.007915\n",
      "3      Amelia   F   12333  0.007572\n",
      "4      Sophia   F   12310  0.007558\n",
      "5    Isabella   F   11662  0.007160\n",
      "6         Ava   F   11039  0.006778\n",
      "7         Mia   F   11018  0.006765\n",
      "8      Evelyn   F    9289  0.005703\n",
      "9        Luna   F    8922  0.005478\n",
      "10       Liam   M   20456  0.011803\n",
      "11       Noah   M   18621  0.010744\n",
      "12     Oliver   M   15076  0.008699\n",
      "13      James   M   12028  0.006940\n",
      "14     Elijah   M   11979  0.006912\n",
      "15    William   M   11282  0.006509\n",
      "16      Henry   M   11221  0.006474\n",
      "17      Lucas   M   10909  0.006294\n",
      "18   Benjamin   M   10842  0.006256\n",
      "19   Theodore   M   10754  0.006205\n"
     ]
    }
   ],
   "source": [
    "def get_top_names(dataset, n=10):\n",
    "    \"\"\"\n",
    "    Extract the top n names for each sex from the dataset.\n",
    "    \n",
    "    Parameters:\n",
    "        dataset (DataFrame): The dataset containing columns \"name\", \"sex\", \"births\", and \"prop\".\n",
    "        n (int): The number of top names to extract for each sex (default is 10).\n",
    "        \n",
    "    Returns:\n",
    "        DataFrame: A subset of the input dataset containing the top n names for each sex.\n",
    "    \"\"\"\n",
    "    # Group the dataset by sex and sort each group by proportion in descending order\n",
    "    top_names = dataset.groupby('sex').apply(lambda group: group.nlargest(n, 'prop')).reset_index(drop=True)\n",
    "    \n",
    "    return top_names\n",
    "\n",
    "# Assuming you've already read the CSV file, assigned column names, inserted the \"prop\" column,\n",
    "# and verified that proportions sum up to one for each sex as shown in previous responses\n",
    "# If not, make sure your DataFrame contains the necessary columns and calculations.\n",
    "\n",
    "# Call the function to get the top 10 names for each sex\n",
    "top_names_subset = get_top_names(df, n=10)\n",
    "\n",
    "# Example: Print the subset of data with the top names\n",
    "print(top_names_subset)\n"
   ]
  },
  {
   "cell_type": "markdown",
   "metadata": {},
   "source": [
    "### Compute proportions of names based on a first letter of the name"
   ]
  },
  {
   "cell_type": "markdown",
   "metadata": {},
   "source": [
    "__Manually__"
   ]
  },
  {
   "cell_type": "markdown",
   "metadata": {},
   "source": [
    "Aggregate all birth by the first letter from `name` column"
   ]
  },
  {
   "cell_type": "code",
   "execution_count": 18,
   "metadata": {},
   "outputs": [],
   "source": [
    "# extract first letter from name column\n",
    "get_first_letter = lambda x: x[0]\n",
    "first_letters = names2022.name.map(get_first_letter)\n",
    "first_letters.name = 'first_letter'\n",
    "\n",
    "table = names2022.pivot_table('births', index=first_letters,\n",
    "                          columns=['sex'], aggfunc=sum)"
   ]
  },
  {
   "cell_type": "code",
   "execution_count": 19,
   "metadata": {},
   "outputs": [
    {
     "data": {
      "text/html": [
       "<div>\n",
       "<style scoped>\n",
       "    .dataframe tbody tr th:only-of-type {\n",
       "        vertical-align: middle;\n",
       "    }\n",
       "\n",
       "    .dataframe tbody tr th {\n",
       "        vertical-align: top;\n",
       "    }\n",
       "\n",
       "    .dataframe thead th {\n",
       "        text-align: right;\n",
       "    }\n",
       "</style>\n",
       "<table border=\"1\" class=\"dataframe\">\n",
       "  <thead>\n",
       "    <tr style=\"text-align: right;\">\n",
       "      <th>sex</th>\n",
       "      <th>F</th>\n",
       "      <th>M</th>\n",
       "    </tr>\n",
       "    <tr>\n",
       "      <th>first_letter</th>\n",
       "      <th></th>\n",
       "      <th></th>\n",
       "    </tr>\n",
       "  </thead>\n",
       "  <tbody>\n",
       "    <tr>\n",
       "      <th>A</th>\n",
       "      <td>267805</td>\n",
       "      <td>181030</td>\n",
       "    </tr>\n",
       "    <tr>\n",
       "      <th>B</th>\n",
       "      <td>47677</td>\n",
       "      <td>82315</td>\n",
       "    </tr>\n",
       "    <tr>\n",
       "      <th>C</th>\n",
       "      <td>91384</td>\n",
       "      <td>121524</td>\n",
       "    </tr>\n",
       "    <tr>\n",
       "      <th>D</th>\n",
       "      <td>41531</td>\n",
       "      <td>84077</td>\n",
       "    </tr>\n",
       "    <tr>\n",
       "      <th>E</th>\n",
       "      <td>154229</td>\n",
       "      <td>109922</td>\n",
       "    </tr>\n",
       "  </tbody>\n",
       "</table>\n",
       "</div>"
      ],
      "text/plain": [
       "sex                F       M\n",
       "first_letter                \n",
       "A             267805  181030\n",
       "B              47677   82315\n",
       "C              91384  121524\n",
       "D              41531   84077\n",
       "E             154229  109922"
      ]
     },
     "execution_count": 19,
     "metadata": {},
     "output_type": "execute_result"
    }
   ],
   "source": [
    "table.head()"
   ]
  },
  {
   "cell_type": "markdown",
   "metadata": {},
   "source": [
    "Normalize the table"
   ]
  },
  {
   "cell_type": "code",
   "execution_count": 20,
   "metadata": {},
   "outputs": [
    {
     "data": {
      "text/plain": [
       "sex\n",
       "F    1628730\n",
       "M    1733166\n",
       "dtype: int64"
      ]
     },
     "execution_count": 20,
     "metadata": {},
     "output_type": "execute_result"
    }
   ],
   "source": [
    "table.sum()"
   ]
  },
  {
   "cell_type": "code",
   "execution_count": 21,
   "metadata": {},
   "outputs": [],
   "source": [
    "letter_prop = table / table.sum().astype(float)"
   ]
  },
  {
   "cell_type": "markdown",
   "metadata": {},
   "source": [
    "__ChatGPT__"
   ]
  },
  {
   "cell_type": "markdown",
   "metadata": {},
   "source": [
    "(insert to ChatGPT) Compute proportions of names based on a first letter of the name.\n",
    "\n",
    "__wrong results__"
   ]
  },
  {
   "cell_type": "code",
   "execution_count": 22,
   "metadata": {},
   "outputs": [
    {
     "name": "stdout",
     "output_type": "stream",
     "text": [
      "        name sex  births      prop first_letter\n",
      "0     Olivia   F   16573  0.541831            O\n",
      "1       Emma   F   14435  0.093595            E\n",
      "2  Charlotte   F   12891  0.141064            C\n",
      "3     Amelia   F   12333  0.046052            A\n",
      "4     Sophia   F   12310  0.103164            S\n"
     ]
    }
   ],
   "source": [
    "def calculate_proportions_by_first_letter(dataset):\n",
    "    \"\"\"\n",
    "    Compute the proportions of names based on the first letter of the name in the dataset.\n",
    "    \n",
    "    Parameters:\n",
    "        dataset (DataFrame): The dataset containing columns \"name\", \"sex\", and \"births\".\n",
    "        \n",
    "    Returns:\n",
    "        DataFrame: A DataFrame with columns \"first_letter\", \"sex\", \"births\", and \"prop\",\n",
    "                    where \"first_letter\" is the first letter of the name.\n",
    "    \"\"\"\n",
    "    # Extract the first letter of each name\n",
    "    dataset['first_letter'] = dataset['name'].str[0]\n",
    "    \n",
    "    # Calculate the total number of births for each sex and first letter\n",
    "    total_births_by_sex_and_letter = dataset.groupby(['sex', 'first_letter'])['births'].transform('sum')\n",
    "    \n",
    "    # Calculate the proportion of each name for its respective sex and first letter\n",
    "    dataset['prop'] = dataset['births'] / total_births_by_sex_and_letter\n",
    "    \n",
    "    return dataset\n",
    "\n",
    "# Assuming you've already read the CSV file and assigned column names as shown in a previous response\n",
    "# If not, read the file again with column names as mentioned earlier\n",
    "\n",
    "# Calculate proportions based on the first letter of the name\n",
    "df_with_letter_proportions = calculate_proportions_by_first_letter(df)\n",
    "\n",
    "# Example: Print the dataset with the calculated proportions\n",
    "print(df_with_letter_proportions.head())\n"
   ]
  },
  {
   "cell_type": "markdown",
   "metadata": {},
   "source": [
    "(insert to ChatGPT) Aggregate all birth by the first letter from \"name\" column.\n",
    "\n",
    "__wrong results__"
   ]
  },
  {
   "cell_type": "code",
   "execution_count": 23,
   "metadata": {},
   "outputs": [
    {
     "name": "stdout",
     "output_type": "stream",
     "text": [
      "   first_letter  births\n",
      "0             A  448835\n",
      "1             B  129992\n",
      "2             C  212908\n",
      "3             D  125608\n",
      "4             E  264151\n",
      "5             F   37607\n",
      "6             G   93042\n",
      "7             H  105138\n",
      "8             I   78383\n",
      "9             J  267514\n",
      "10            K  181356\n",
      "11            L  250518\n",
      "12            M  275966\n",
      "13            N  115712\n",
      "14            O   71170\n",
      "15            P   59735\n",
      "16            Q    6920\n",
      "17            R  156481\n",
      "18            S  192898\n",
      "19            T   84702\n",
      "20            U    3306\n",
      "21            V   45976\n",
      "22            W   66525\n",
      "23            X   12062\n",
      "24            Y   18193\n",
      "25            Z   57198\n"
     ]
    }
   ],
   "source": [
    "def aggregate_births_by_first_letter(dataset):\n",
    "    \"\"\"\n",
    "    Aggregate births by the first letter of names in the dataset.\n",
    "    \n",
    "    Parameters:\n",
    "        dataset (DataFrame): The dataset containing columns \"name\" and \"births\".\n",
    "        \n",
    "    Returns:\n",
    "        DataFrame: A DataFrame with columns \"first_letter\" and \"total_births\",\n",
    "                    where \"first_letter\" is the first letter of the name and\n",
    "                    \"total_births\" is the total number of births for names with the same first letter.\n",
    "    \"\"\"\n",
    "    # Extract the first letter of each name\n",
    "    dataset['first_letter'] = dataset['name'].str[0]\n",
    "    \n",
    "    # Group the dataset by the first letter and calculate the total births for each group\n",
    "    aggregated_data = dataset.groupby('first_letter')['births'].sum().reset_index()\n",
    "    \n",
    "    return aggregated_data\n",
    "\n",
    "# Assuming you've already read the CSV file and assigned column names as shown in a previous response\n",
    "# If not, read the file again with column names as mentioned earlier\n",
    "\n",
    "# Aggregate births by the first letter of the name\n",
    "births_by_first_letter = aggregate_births_by_first_letter(df)\n",
    "\n",
    "# Example: Print the aggregated data\n",
    "print(births_by_first_letter)\n"
   ]
  },
  {
   "cell_type": "markdown",
   "metadata": {},
   "source": [
    "(insert to ChatGPT) Aggregate all birth by the first letter from \"name\" column grouping by sex and convert to proportions."
   ]
  },
  {
   "cell_type": "code",
   "execution_count": 24,
   "metadata": {},
   "outputs": [
    {
     "name": "stdout",
     "output_type": "stream",
     "text": [
      "   sex first_letter  births      prop\n",
      "0    F            A  267805  0.164426\n",
      "1    F            B   47677  0.029273\n",
      "2    F            C   91384  0.056108\n",
      "3    F            D   41531  0.025499\n",
      "4    F            E  154229  0.094693\n",
      "5    F            F   17009  0.010443\n",
      "6    F            G   41525  0.025495\n",
      "7    F            H   55086  0.033821\n",
      "8    F            I   46058  0.028278\n",
      "9    F            J   71693  0.044018\n",
      "10   F            K   86496  0.053106\n",
      "11   F            L  118062  0.072487\n",
      "12   F            M  147035  0.090276\n",
      "13   F            N   59486  0.036523\n",
      "14   F            O   30587  0.018780\n",
      "15   F            P   36609  0.022477\n",
      "16   F            Q    4033  0.002476\n",
      "17   F            R   74273  0.045602\n",
      "18   F            S  119324  0.073262\n",
      "19   F            T   23514  0.014437\n",
      "20   F            U     670  0.000411\n",
      "21   F            V   34796  0.021364\n",
      "22   F            W   16170  0.009928\n",
      "23   F            X    4970  0.003051\n",
      "24   F            Y    9139  0.005611\n",
      "25   F            Z   29569  0.018155\n",
      "26   M            A  181030  0.104450\n",
      "27   M            B   82315  0.047494\n",
      "28   M            C  121524  0.070117\n",
      "29   M            D   84077  0.048511\n",
      "30   M            E  109922  0.063423\n",
      "31   M            F   20598  0.011885\n",
      "32   M            G   51517  0.029724\n",
      "33   M            H   50052  0.028879\n",
      "34   M            I   32325  0.018651\n",
      "35   M            J  195821  0.112985\n",
      "36   M            K   94860  0.054732\n",
      "37   M            L  132456  0.076424\n",
      "38   M            M  128931  0.074390\n",
      "39   M            N   56226  0.032441\n",
      "40   M            O   40583  0.023416\n",
      "41   M            P   23126  0.013343\n",
      "42   M            Q    2887  0.001666\n",
      "43   M            R   82208  0.047432\n",
      "44   M            S   73574  0.042451\n",
      "45   M            T   61188  0.035304\n",
      "46   M            U    2636  0.001521\n",
      "47   M            V   11180  0.006451\n",
      "48   M            W   50355  0.029054\n",
      "49   M            X    7092  0.004092\n",
      "50   M            Y    9054  0.005224\n",
      "51   M            Z   27629  0.015941\n"
     ]
    }
   ],
   "source": [
    "def aggregate_and_convert_to_proportions(dataset):\n",
    "    \"\"\"\n",
    "    Aggregate births by the first letter of names in the dataset, grouping by sex,\n",
    "    and convert the aggregated values to proportions within each sex.\n",
    "    \n",
    "    Parameters:\n",
    "        dataset (DataFrame): The dataset containing columns \"name\", \"sex\", and \"births\".\n",
    "        \n",
    "    Returns:\n",
    "        DataFrame: A DataFrame with columns \"sex\", \"first_letter\", and \"prop\",\n",
    "                    where \"sex\" represents the sex, \"first_letter\" is the first letter of the name,\n",
    "                    and \"prop\" is the proportion of births for names with the same first letter within each sex.\n",
    "    \"\"\"\n",
    "    # Extract the first letter of each name\n",
    "    dataset['first_letter'] = dataset['name'].str[0]\n",
    "    \n",
    "    # Group the dataset by sex and the first letter, and calculate the total births for each group\n",
    "    grouped_data = dataset.groupby(['sex', 'first_letter'])['births'].sum().reset_index()\n",
    "    \n",
    "    # Calculate the proportion of births for each group within its respective sex\n",
    "    grouped_data['prop'] = grouped_data.groupby('sex')['births'].transform(lambda x: x / x.sum())\n",
    "    \n",
    "    return grouped_data\n",
    "\n",
    "# Assuming you've already read the CSV file and assigned column names as shown in a previous response\n",
    "# If not, read the file again with column names as mentioned earlier\n",
    "\n",
    "# Aggregate births by the first letter of the name, grouping by sex, and convert to proportions\n",
    "births_by_first_letter_and_sex = aggregate_and_convert_to_proportions(df)\n",
    "\n",
    "# Example: Print the aggregated data with proportions\n",
    "print(births_by_first_letter_and_sex)\n"
   ]
  },
  {
   "cell_type": "markdown",
   "metadata": {},
   "source": [
    "### Plot proportion of boys and girls names starting in each letter"
   ]
  },
  {
   "cell_type": "markdown",
   "metadata": {},
   "source": [
    "__Manually__"
   ]
  },
  {
   "cell_type": "code",
   "execution_count": 25,
   "metadata": {},
   "outputs": [
    {
     "data": {
      "image/png": "[encoded data removed]",
      "text/plain": [
       "<Figure size 1000x800 with 2 Axes>"
      ]
     },
     "metadata": {},
     "output_type": "display_data"
    }
   ],
   "source": [
    "%matplotlib inline\n",
    "import matplotlib.pyplot as plt\n",
    "\n",
    "fig, axes = plt.subplots(2, 1, figsize=(10, 8))\n",
    "letter_prop['M'].plot(kind='bar', rot=0, ax=axes[0], title='Male')\n",
    "letter_prop['F'].plot(kind='bar', rot=0, ax=axes[1], title='Female', legend=False)\n",
    "fig.tight_layout()"
   ]
  },
  {
   "cell_type": "markdown",
   "metadata": {},
   "source": [
    "__ChatGPT__"
   ]
  },
  {
   "cell_type": "markdown",
   "metadata": {},
   "source": [
    "(insert to ChatGPT) Plot proportion of males and females names starting in each letter.\n",
    "\n",
    "__wrong results__"
   ]
  },
  {
   "cell_type": "code",
   "execution_count": 26,
   "metadata": {},
   "outputs": [
    {
     "data": {
      "image/png": "[encoded data removed]",
      "text/plain": [
       "<Figure size 1200x600 with 1 Axes>"
      ]
     },
     "metadata": {},
     "output_type": "display_data"
    }
   ],
   "source": [
    "import matplotlib.pyplot as plt\n",
    "\n",
    "def plot_proportion_of_names_by_letter(dataset):\n",
    "    \"\"\"\n",
    "    Plot the proportion of male and female names starting with each letter.\n",
    "    \n",
    "    Parameters:\n",
    "        dataset (DataFrame): The dataset containing columns \"sex\", \"first_letter\", and \"prop\".\n",
    "    \"\"\"\n",
    "    # Pivot the dataset to have \"first_letter\" as columns and \"prop\" as values\n",
    "    pivoted_data = dataset.pivot(index='first_letter', columns='sex', values='prop').fillna(0)\n",
    "    \n",
    "    # Create a bar plot for male and female proportions\n",
    "    ax = pivoted_data.plot(kind='bar', stacked=True, figsize=(12, 6))\n",
    "    \n",
    "    # Customize the plot\n",
    "    plt.title(\"Proportion of Male and Female Names by First Letter\")\n",
    "    plt.xlabel(\"First Letter\")\n",
    "    plt.ylabel(\"Proportion\")\n",
    "    plt.legend(title=\"Sex\", labels=[\"Female\", \"Male\"])\n",
    "    plt.xticks(rotation=0)\n",
    "    \n",
    "    # Show the plot\n",
    "    plt.show()\n",
    "\n",
    "# Assuming you've already read the CSV file, assigned column names, and calculated proportions as shown earlier\n",
    "# If not, make sure your DataFrame contains the necessary columns and calculations.\n",
    "\n",
    "# Call the function to plot the proportion of male and female names by first letter\n",
    "plot_proportion_of_names_by_letter(births_by_first_letter_and_sex)\n"
   ]
  },
  {
   "cell_type": "markdown",
   "metadata": {},
   "source": [
    "(insert to ChatGPT) On two plots, plot proportion of males and females names starting in each letter."
   ]
  },
  {
   "cell_type": "code",
   "execution_count": 27,
   "metadata": {},
   "outputs": [
    {
     "data": {
      "image/png": "[encoded data removed]",
      "text/plain": [
       "<Figure size 1200x800 with 2 Axes>"
      ]
     },
     "metadata": {},
     "output_type": "display_data"
    }
   ],
   "source": [
    "def plot_proportion_of_names_by_letter_separate(dataset):\n",
    "    \"\"\"\n",
    "    Plot the proportion of male and female names starting with each letter on separate plots.\n",
    "    \n",
    "    Parameters:\n",
    "        dataset (DataFrame): The dataset containing columns \"sex\", \"first_letter\", and \"prop\".\n",
    "    \"\"\"\n",
    "    # Create separate DataFrames for male and female proportions\n",
    "    male_data = dataset[dataset['sex'] == 'M']\n",
    "    female_data = dataset[dataset['sex'] == 'F']\n",
    "    \n",
    "    # Pivot the datasets to have \"first_letter\" as columns and \"prop\" as values\n",
    "    pivoted_male_data = male_data.pivot(index='first_letter', columns='sex', values='prop').fillna(0)\n",
    "    pivoted_female_data = female_data.pivot(index='first_letter', columns='sex', values='prop').fillna(0)\n",
    "    \n",
    "    # Create two subplots\n",
    "    fig, axes = plt.subplots(nrows=2, figsize=(12, 8), sharex=True)\n",
    "    \n",
    "    # Plot male proportions on the first subplot\n",
    "    pivoted_male_data.plot(kind='bar', stacked=True, ax=axes[0])\n",
    "    axes[0].set_title(\"Proportion of Male Names by First Letter\")\n",
    "    axes[0].set_ylabel(\"Proportion\")\n",
    "    axes[0].legend(title=\"Sex\", labels=[\"Male\"])\n",
    "    \n",
    "    # Plot female proportions on the second subplot\n",
    "    pivoted_female_data.plot(kind='bar', stacked=True, ax=axes[1])\n",
    "    axes[1].set_title(\"Proportion of Female Names by First Letter\")\n",
    "    axes[1].set_xlabel(\"First Letter\")\n",
    "    axes[1].set_ylabel(\"Proportion\")\n",
    "    axes[1].legend(title=\"Sex\", labels=[\"Female\"])\n",
    "    \n",
    "    # Customize the plots\n",
    "    plt.xticks(rotation=0)\n",
    "    \n",
    "    # Adjust subplot spacing\n",
    "    plt.tight_layout()\n",
    "    \n",
    "    # Show the plots\n",
    "    plt.show()\n",
    "\n",
    "# Assuming you've already read the CSV file, assigned column names, and calculated proportions as shown earlier\n",
    "# If not, make sure your DataFrame contains the necessary columns and calculations.\n",
    "\n",
    "# Call the function to plot the proportion of male and female names by first letter on separate plots\n",
    "plot_proportion_of_names_by_letter_separate(births_by_first_letter_and_sex)"
   ]
  }
 ],
 "metadata": {
  "anaconda-cloud": {},
  "kernelspec": {
   "display_name": "Python 3 (ipykernel)",
   "language": "python",
   "name": "python3"
  },
  "language_info": {
   "codemirror_mode": {
    "name": "ipython",
    "version": 3
   },
   "file_extension": ".py",
   "mimetype": "text/x-python",
   "name": "python",
   "nbconvert_exporter": "python",
   "pygments_lexer": "ipython3",
   "version": "3.9.17"
  }
 },
 "nbformat": 4,
 "nbformat_minor": 1
}
